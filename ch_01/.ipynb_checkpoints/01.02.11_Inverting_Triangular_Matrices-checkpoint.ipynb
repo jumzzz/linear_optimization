{
 "cells": [
  {
   "cell_type": "code",
   "execution_count": 3,
   "id": "0fcf60f7",
   "metadata": {},
   "outputs": [],
   "source": [
    "import numpy as np"
   ]
  },
  {
   "cell_type": "code",
   "execution_count": 15,
   "id": "51af6c1e",
   "metadata": {},
   "outputs": [
    {
     "name": "stdout",
     "output_type": "stream",
     "text": [
      "[[0.0056187  0.35631938 0.13573234 0.43373722]\n",
      " [0.         0.60140254 0.81890058 0.46263528]\n",
      " [0.         0.         0.43446914 0.07923558]\n",
      " [0.         0.         0.         0.41750159]]\n",
      "----------------------------\n",
      "[[0.0056187  0.         0.         0.        ]\n",
      " [0.         0.60140254 0.         0.        ]\n",
      " [0.         0.         0.43446914 0.        ]\n",
      " [0.         0.         0.         0.41750159]]\n",
      "----------------------------\n",
      "[[0.         0.35631938 0.13573234 0.43373722]\n",
      " [0.         0.         0.81890058 0.46263528]\n",
      " [0.         0.         0.         0.07923558]\n",
      " [0.         0.         0.         0.        ]]\n"
     ]
    }
   ],
   "source": [
    "x = np.triu(np.random.rand(4,4), k=0)\n",
    "\n",
    "x_diag_x = np.diag(x)\n",
    "x_diag = np.zeros((4,4))\n",
    "x_triu = np.triu(x, k=1)\n",
    "np.fill_diagonal(x_diag, x_diag_x)\n",
    "\n",
    "print(x)\n",
    "print('----------------------------')\n",
    "print(x_diag)\n",
    "print('----------------------------')\n",
    "print(x_triu)"
   ]
  },
  {
   "cell_type": "code",
   "execution_count": 18,
   "id": "31cc63b1",
   "metadata": {},
   "outputs": [
    {
     "data": {
      "text/plain": [
       "array([[ True,  True,  True,  True],\n",
       "       [ True,  True,  True,  True],\n",
       "       [ True,  True,  True,  True],\n",
       "       [ True,  True,  True,  True]])"
      ]
     },
     "execution_count": 18,
     "metadata": {},
     "output_type": "execute_result"
    }
   ],
   "source": [
    "np.linalg.matrix_power(x, 3) == (x @ x @ x)"
   ]
  },
  {
   "cell_type": "code",
   "execution_count": 16,
   "id": "3c09e765",
   "metadata": {},
   "outputs": [
    {
     "name": "stdout",
     "output_type": "stream",
     "text": [
      "[[ 177.97706334 -105.44796786  143.14977309  -95.21851563]\n",
      " [   0.            1.6627798    -3.13405767   -1.24773588]\n",
      " [   0.            0.            2.30165945   -0.43682069]\n",
      " [   0.            0.            0.            2.39520047]]\n"
     ]
    }
   ],
   "source": [
    "x_inv = np.linalg.inv(x)\n",
    "print(x_inv)"
   ]
  },
  {
   "cell_type": "markdown",
   "id": "ec8bf165",
   "metadata": {},
   "source": [
    "#### Derivation of the Inverse Formula\n",
    "\n",
    "$L^{-1} = (\\Delta + A)^{-1} = [I + \\sum_{n=1}^{d-1} (\\Delta^{-1}A)^{n}]\\Delta^{-1}$"
   ]
  },
  {
   "cell_type": "code",
   "execution_count": 25,
   "id": "cb0dadcc",
   "metadata": {},
   "outputs": [],
   "source": [
    "def get_inv_tri(x):\n",
    "    d = x.shape[0]\n",
    "    x_diag_x = np.diag(x)\n",
    "    x_diag = np.zeros((d,d))\n",
    "    x_triu = np.triu(x, k=1)\n",
    "    np.fill_diagonal(x_diag, x_diag_x)\n",
    "    \n",
    "    x_diag_inv = np.linalg.inv(x_diag)\n",
    "    x_id = np.identity(d)\n",
    "    \n",
    "    x_res = x_id @ x_diag_inv\n",
    "    \n",
    "    for i in range(1, d):\n",
    "        x_res += ((-1)**i)* np.linalg.matrix_power(x_diag_inv @ x_triu, i) @ x_diag_inv\n",
    "        \n",
    "    return x_res\n",
    "    \n",
    "    \n",
    "    "
   ]
  },
  {
   "cell_type": "code",
   "execution_count": 26,
   "id": "5b2c3a79",
   "metadata": {},
   "outputs": [
    {
     "data": {
      "text/plain": [
       "array([[ 1.81647484, -1.32334619, -3.60593834,  1.745869  ,  2.91992665],\n",
       "       [ 0.        ,  2.05543179, -4.15273384,  2.56175602,  0.96642381],\n",
       "       [ 0.        ,  0.        ,  7.19607728, -5.1034993 , -4.17695811],\n",
       "       [ 0.        ,  0.        ,  0.        ,  1.23405521, -0.87588989],\n",
       "       [ 0.        ,  0.        ,  0.        ,  0.        ,  1.16031649]])"
      ]
     },
     "execution_count": 26,
     "metadata": {},
     "output_type": "execute_result"
    }
   ],
   "source": [
    "get_inv_tri(x)"
   ]
  },
  {
   "cell_type": "markdown",
   "id": "4c860b55",
   "metadata": {},
   "source": [
    "#### Confirmation\n",
    "- Since we're dealing with floating-point, we're expecting some sort of calculation differences. At the very least, the difference between calculations must be less than some $\\epsilon = 0.000001$"
   ]
  },
  {
   "cell_type": "code",
   "execution_count": 29,
   "id": "6c6d0c86",
   "metadata": {},
   "outputs": [
    {
     "name": "stdout",
     "output_type": "stream",
     "text": [
      "[[ True  True  True  True]\n",
      " [ True  True  True  True]\n",
      " [ True  True  True  True]\n",
      " [ True  True  True  True]]\n",
      "----------------------------\n",
      "[[ True  True  True  True  True]\n",
      " [ True  True  True  True  True]\n",
      " [ True  True  True  True  True]\n",
      " [ True  True  True  True  True]\n",
      " [ True  True  True  True  True]]\n",
      "----------------------------\n",
      "[[ True  True  True  True  True  True]\n",
      " [ True  True  True  True  True  True]\n",
      " [ True  True  True  True  True  True]\n",
      " [ True  True  True  True  True  True]\n",
      " [ True  True  True  True  True  True]\n",
      " [ True  True  True  True  True  True]]\n",
      "----------------------------\n",
      "[[ True  True  True  True  True  True  True]\n",
      " [ True  True  True  True  True  True  True]\n",
      " [ True  True  True  True  True  True  True]\n",
      " [ True  True  True  True  True  True  True]\n",
      " [ True  True  True  True  True  True  True]\n",
      " [ True  True  True  True  True  True  True]\n",
      " [ True  True  True  True  True  True  True]]\n",
      "----------------------------\n",
      "[[ True  True  True  True  True  True  True  True]\n",
      " [ True  True  True  True  True  True  True  True]\n",
      " [ True  True  True  True  True  True  True  True]\n",
      " [ True  True  True  True  True  True  True  True]\n",
      " [ True  True  True  True  True  True  True  True]\n",
      " [ True  True  True  True  True  True  True  True]\n",
      " [ True  True  True  True  True  True  True  True]\n",
      " [ True  True  True  True  True  True  True  True]]\n",
      "----------------------------\n",
      "[[ True  True  True  True  True  True  True  True  True]\n",
      " [ True  True  True  True  True  True  True  True  True]\n",
      " [ True  True  True  True  True  True  True  True  True]\n",
      " [ True  True  True  True  True  True  True  True  True]\n",
      " [ True  True  True  True  True  True  True  True  True]\n",
      " [ True  True  True  True  True  True  True  True  True]\n",
      " [ True  True  True  True  True  True  True  True  True]\n",
      " [ True  True  True  True  True  True  True  True  True]\n",
      " [ True  True  True  True  True  True  True  True  True]]\n",
      "----------------------------\n"
     ]
    }
   ],
   "source": [
    "x1 = np.triu(np.random.rand(4,4), k=0)\n",
    "x2 = np.triu(np.random.rand(5,5), k=0)\n",
    "x3 = np.triu(np.random.rand(6,6), k=0)\n",
    "x4 = np.triu(np.random.rand(7,7), k=0)\n",
    "x5 = np.triu(np.random.rand(8,8), k=0)\n",
    "x6 = np.triu(np.random.rand(9,9), k=0)\n",
    "\n",
    "x_list = [x1, x2, x3, x4, x5, x6]\n",
    "\n",
    "for x in x_list:\n",
    "    print((np.linalg.inv(x) - get_inv_tri(x)) <= 0.000001)\n",
    "    print('----------------------------')\n"
   ]
  },
  {
   "cell_type": "code",
   "execution_count": null,
   "id": "ec0fb6c4",
   "metadata": {},
   "outputs": [],
   "source": []
  }
 ],
 "metadata": {
  "kernelspec": {
   "display_name": "Python 3 (ipykernel)",
   "language": "python",
   "name": "python3"
  },
  "language_info": {
   "codemirror_mode": {
    "name": "ipython",
    "version": 3
   },
   "file_extension": ".py",
   "mimetype": "text/x-python",
   "name": "python",
   "nbconvert_exporter": "python",
   "pygments_lexer": "ipython3",
   "version": "3.8.12"
  }
 },
 "nbformat": 4,
 "nbformat_minor": 5
}
